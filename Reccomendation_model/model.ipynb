{
 "cells": [
  {
   "cell_type": "code",
   "execution_count": 1,
   "metadata": {},
   "outputs": [],
   "source": [
    "import pandas as pd\n",
    "import numpy as np"
   ]
  },
  {
   "cell_type": "code",
   "execution_count": 3,
   "metadata": {},
   "outputs": [],
   "source": [
    "Cool_undertone = pd.read_csv(r\"C:\\Users\\SNEHA\\Downloads\\Reccomendation_Model\\colors_for_cool_undertone.csv\")\n",
    "Warm_undertone = pd.read_csv(r\"C:\\Users\\SNEHA\\Downloads\\Reccomendation_Model\\colors_for_cool_undertone.csv\")\n",
    "Upperwear = pd.read_csv(r\"C:\\Users\\SNEHA\\Downloads\\Reccomendation_Model\\upperwear_recommendations.csv\")\n",
    "Bottomwear = pd.read_csv(r\"C:\\Users\\SNEHA\\Downloads\\Reccomendation_Model\\bottomwear_recommendations.csv\")\n",
    "Dresses = pd.read_csv(r\"C:\\Users\\SNEHA\\Downloads\\Reccomendation_Model\\dresses_recommendations.csv\")\n"
   ]
  },
  {
   "cell_type": "code",
   "execution_count": null,
   "metadata": {},
   "outputs": [],
   "source": []
  }
 ],
 "metadata": {
  "kernelspec": {
   "display_name": ".venv",
   "language": "python",
   "name": "python3"
  },
  "language_info": {
   "codemirror_mode": {
    "name": "ipython",
    "version": 3
   },
   "file_extension": ".py",
   "mimetype": "text/x-python",
   "name": "python",
   "nbconvert_exporter": "python",
   "pygments_lexer": "ipython3",
   "version": "3.12.0"
  }
 },
 "nbformat": 4,
 "nbformat_minor": 2
}
